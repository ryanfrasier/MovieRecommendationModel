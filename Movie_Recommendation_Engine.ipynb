{
  "nbformat": 4,
  "nbformat_minor": 0,
  "metadata": {
    "colab": {
      "provenance": []
    },
    "kernelspec": {
      "name": "python3",
      "display_name": "Python 3"
    },
    "language_info": {
      "name": "python"
    }
  },
  "cells": [
    {
      "cell_type": "code",
      "execution_count": 21,
      "metadata": {
        "id": "70-EMiO5GE9m"
      },
      "outputs": [],
      "source": [
        "#import the libraries\n",
        "import pandas as pd\n",
        "import numpy as np\n",
        "from sklearn.metrics.pairwise import cosine_similarity\n",
        "from sklearn.feature_extraction.text import CountVectorizer"
      ]
    },
    {
      "cell_type": "code",
      "source": [
        "#load the data\n",
        "from google.colab import files\n",
        "uploaded = files.upload()"
      ],
      "metadata": {
        "colab": {
          "base_uri": "https://localhost:8080/",
          "height": 76
        },
        "id": "Imrhqh9XHPmB",
        "outputId": "3790a13c-d0a3-470f-f3ca-b1af16bde759"
      },
      "execution_count": 23,
      "outputs": [
        {
          "output_type": "display_data",
          "data": {
            "text/plain": [
              "<IPython.core.display.HTML object>"
            ],
            "text/html": [
              "\n",
              "     <input type=\"file\" id=\"files-ebab989a-e2f7-4874-83e8-58a818c0bba9\" name=\"files[]\" multiple disabled\n",
              "        style=\"border:none\" />\n",
              "     <output id=\"result-ebab989a-e2f7-4874-83e8-58a818c0bba9\">\n",
              "      Upload widget is only available when the cell has been executed in the\n",
              "      current browser session. Please rerun this cell to enable.\n",
              "      </output>\n",
              "      <script>// Copyright 2017 Google LLC\n",
              "//\n",
              "// Licensed under the Apache License, Version 2.0 (the \"License\");\n",
              "// you may not use this file except in compliance with the License.\n",
              "// You may obtain a copy of the License at\n",
              "//\n",
              "//      http://www.apache.org/licenses/LICENSE-2.0\n",
              "//\n",
              "// Unless required by applicable law or agreed to in writing, software\n",
              "// distributed under the License is distributed on an \"AS IS\" BASIS,\n",
              "// WITHOUT WARRANTIES OR CONDITIONS OF ANY KIND, either express or implied.\n",
              "// See the License for the specific language governing permissions and\n",
              "// limitations under the License.\n",
              "\n",
              "/**\n",
              " * @fileoverview Helpers for google.colab Python module.\n",
              " */\n",
              "(function(scope) {\n",
              "function span(text, styleAttributes = {}) {\n",
              "  const element = document.createElement('span');\n",
              "  element.textContent = text;\n",
              "  for (const key of Object.keys(styleAttributes)) {\n",
              "    element.style[key] = styleAttributes[key];\n",
              "  }\n",
              "  return element;\n",
              "}\n",
              "\n",
              "// Max number of bytes which will be uploaded at a time.\n",
              "const MAX_PAYLOAD_SIZE = 100 * 1024;\n",
              "\n",
              "function _uploadFiles(inputId, outputId) {\n",
              "  const steps = uploadFilesStep(inputId, outputId);\n",
              "  const outputElement = document.getElementById(outputId);\n",
              "  // Cache steps on the outputElement to make it available for the next call\n",
              "  // to uploadFilesContinue from Python.\n",
              "  outputElement.steps = steps;\n",
              "\n",
              "  return _uploadFilesContinue(outputId);\n",
              "}\n",
              "\n",
              "// This is roughly an async generator (not supported in the browser yet),\n",
              "// where there are multiple asynchronous steps and the Python side is going\n",
              "// to poll for completion of each step.\n",
              "// This uses a Promise to block the python side on completion of each step,\n",
              "// then passes the result of the previous step as the input to the next step.\n",
              "function _uploadFilesContinue(outputId) {\n",
              "  const outputElement = document.getElementById(outputId);\n",
              "  const steps = outputElement.steps;\n",
              "\n",
              "  const next = steps.next(outputElement.lastPromiseValue);\n",
              "  return Promise.resolve(next.value.promise).then((value) => {\n",
              "    // Cache the last promise value to make it available to the next\n",
              "    // step of the generator.\n",
              "    outputElement.lastPromiseValue = value;\n",
              "    return next.value.response;\n",
              "  });\n",
              "}\n",
              "\n",
              "/**\n",
              " * Generator function which is called between each async step of the upload\n",
              " * process.\n",
              " * @param {string} inputId Element ID of the input file picker element.\n",
              " * @param {string} outputId Element ID of the output display.\n",
              " * @return {!Iterable<!Object>} Iterable of next steps.\n",
              " */\n",
              "function* uploadFilesStep(inputId, outputId) {\n",
              "  const inputElement = document.getElementById(inputId);\n",
              "  inputElement.disabled = false;\n",
              "\n",
              "  const outputElement = document.getElementById(outputId);\n",
              "  outputElement.innerHTML = '';\n",
              "\n",
              "  const pickedPromise = new Promise((resolve) => {\n",
              "    inputElement.addEventListener('change', (e) => {\n",
              "      resolve(e.target.files);\n",
              "    });\n",
              "  });\n",
              "\n",
              "  const cancel = document.createElement('button');\n",
              "  inputElement.parentElement.appendChild(cancel);\n",
              "  cancel.textContent = 'Cancel upload';\n",
              "  const cancelPromise = new Promise((resolve) => {\n",
              "    cancel.onclick = () => {\n",
              "      resolve(null);\n",
              "    };\n",
              "  });\n",
              "\n",
              "  // Wait for the user to pick the files.\n",
              "  const files = yield {\n",
              "    promise: Promise.race([pickedPromise, cancelPromise]),\n",
              "    response: {\n",
              "      action: 'starting',\n",
              "    }\n",
              "  };\n",
              "\n",
              "  cancel.remove();\n",
              "\n",
              "  // Disable the input element since further picks are not allowed.\n",
              "  inputElement.disabled = true;\n",
              "\n",
              "  if (!files) {\n",
              "    return {\n",
              "      response: {\n",
              "        action: 'complete',\n",
              "      }\n",
              "    };\n",
              "  }\n",
              "\n",
              "  for (const file of files) {\n",
              "    const li = document.createElement('li');\n",
              "    li.append(span(file.name, {fontWeight: 'bold'}));\n",
              "    li.append(span(\n",
              "        `(${file.type || 'n/a'}) - ${file.size} bytes, ` +\n",
              "        `last modified: ${\n",
              "            file.lastModifiedDate ? file.lastModifiedDate.toLocaleDateString() :\n",
              "                                    'n/a'} - `));\n",
              "    const percent = span('0% done');\n",
              "    li.appendChild(percent);\n",
              "\n",
              "    outputElement.appendChild(li);\n",
              "\n",
              "    const fileDataPromise = new Promise((resolve) => {\n",
              "      const reader = new FileReader();\n",
              "      reader.onload = (e) => {\n",
              "        resolve(e.target.result);\n",
              "      };\n",
              "      reader.readAsArrayBuffer(file);\n",
              "    });\n",
              "    // Wait for the data to be ready.\n",
              "    let fileData = yield {\n",
              "      promise: fileDataPromise,\n",
              "      response: {\n",
              "        action: 'continue',\n",
              "      }\n",
              "    };\n",
              "\n",
              "    // Use a chunked sending to avoid message size limits. See b/62115660.\n",
              "    let position = 0;\n",
              "    do {\n",
              "      const length = Math.min(fileData.byteLength - position, MAX_PAYLOAD_SIZE);\n",
              "      const chunk = new Uint8Array(fileData, position, length);\n",
              "      position += length;\n",
              "\n",
              "      const base64 = btoa(String.fromCharCode.apply(null, chunk));\n",
              "      yield {\n",
              "        response: {\n",
              "          action: 'append',\n",
              "          file: file.name,\n",
              "          data: base64,\n",
              "        },\n",
              "      };\n",
              "\n",
              "      let percentDone = fileData.byteLength === 0 ?\n",
              "          100 :\n",
              "          Math.round((position / fileData.byteLength) * 100);\n",
              "      percent.textContent = `${percentDone}% done`;\n",
              "\n",
              "    } while (position < fileData.byteLength);\n",
              "  }\n",
              "\n",
              "  // All done.\n",
              "  yield {\n",
              "    response: {\n",
              "      action: 'complete',\n",
              "    }\n",
              "  };\n",
              "}\n",
              "\n",
              "scope.google = scope.google || {};\n",
              "scope.google.colab = scope.google.colab || {};\n",
              "scope.google.colab._files = {\n",
              "  _uploadFiles,\n",
              "  _uploadFilesContinue,\n",
              "};\n",
              "})(self);\n",
              "</script> "
            ]
          },
          "metadata": {}
        },
        {
          "output_type": "stream",
          "name": "stdout",
          "text": [
            "Saving movie_data.csv to movie_data (1).csv\n"
          ]
        }
      ]
    },
    {
      "cell_type": "code",
      "source": [
        "#store the data\n",
        "df = pd.read_csv('movie_data.csv')\n",
        "#show the first 3 rows of data\n",
        "df.head(3)"
      ],
      "metadata": {
        "colab": {
          "base_uri": "https://localhost:8080/",
          "height": 143
        },
        "id": "7PBRhgHHIAit",
        "outputId": "90fdd6f0-7157-43de-c62e-029065e29d58"
      },
      "execution_count": 24,
      "outputs": [
        {
          "output_type": "execute_result",
          "data": {
            "text/plain": [
              "   Rank                    Title                     Genre  \\\n",
              "0     1  Guardians of the Galaxy   Action,Adventure,Sci-Fi   \n",
              "1     2               Prometheus  Adventure,Mystery,Sci-Fi   \n",
              "2     3                    Split           Horror,Thriller   \n",
              "\n",
              "                                         Description            Director  \\\n",
              "0  A group of intergalactic criminals are forced ...          James Gunn   \n",
              "1  Following clues to the origin of mankind, a te...        Ridley Scott   \n",
              "2  Three girls are kidnapped by a man with a diag...  M. Night Shyamalan   \n",
              "\n",
              "                                              Actors  Year  Runtime (Minutes)  \\\n",
              "0  Chris Pratt, Vin Diesel, Bradley Cooper, Zoe S...  2014                121   \n",
              "1  Noomi Rapace, Logan Marshall-Green, Michael Fa...  2012                124   \n",
              "2  James McAvoy, Anya Taylor-Joy, Haley Lu Richar...  2016                117   \n",
              "\n",
              "   Rating   Votes  Revenue (Millions)  Metascore  \n",
              "0     8.1  757074              333.13       76.0  \n",
              "1     7.0  485820              126.46       65.0  \n",
              "2     7.3  157606              138.12       62.0  "
            ],
            "text/html": [
              "\n",
              "  <div id=\"df-46a18383-cd9f-4e6a-a3bf-4317cd713677\">\n",
              "    <div class=\"colab-df-container\">\n",
              "      <div>\n",
              "<style scoped>\n",
              "    .dataframe tbody tr th:only-of-type {\n",
              "        vertical-align: middle;\n",
              "    }\n",
              "\n",
              "    .dataframe tbody tr th {\n",
              "        vertical-align: top;\n",
              "    }\n",
              "\n",
              "    .dataframe thead th {\n",
              "        text-align: right;\n",
              "    }\n",
              "</style>\n",
              "<table border=\"1\" class=\"dataframe\">\n",
              "  <thead>\n",
              "    <tr style=\"text-align: right;\">\n",
              "      <th></th>\n",
              "      <th>Rank</th>\n",
              "      <th>Title</th>\n",
              "      <th>Genre</th>\n",
              "      <th>Description</th>\n",
              "      <th>Director</th>\n",
              "      <th>Actors</th>\n",
              "      <th>Year</th>\n",
              "      <th>Runtime (Minutes)</th>\n",
              "      <th>Rating</th>\n",
              "      <th>Votes</th>\n",
              "      <th>Revenue (Millions)</th>\n",
              "      <th>Metascore</th>\n",
              "    </tr>\n",
              "  </thead>\n",
              "  <tbody>\n",
              "    <tr>\n",
              "      <th>0</th>\n",
              "      <td>1</td>\n",
              "      <td>Guardians of the Galaxy</td>\n",
              "      <td>Action,Adventure,Sci-Fi</td>\n",
              "      <td>A group of intergalactic criminals are forced ...</td>\n",
              "      <td>James Gunn</td>\n",
              "      <td>Chris Pratt, Vin Diesel, Bradley Cooper, Zoe S...</td>\n",
              "      <td>2014</td>\n",
              "      <td>121</td>\n",
              "      <td>8.1</td>\n",
              "      <td>757074</td>\n",
              "      <td>333.13</td>\n",
              "      <td>76.0</td>\n",
              "    </tr>\n",
              "    <tr>\n",
              "      <th>1</th>\n",
              "      <td>2</td>\n",
              "      <td>Prometheus</td>\n",
              "      <td>Adventure,Mystery,Sci-Fi</td>\n",
              "      <td>Following clues to the origin of mankind, a te...</td>\n",
              "      <td>Ridley Scott</td>\n",
              "      <td>Noomi Rapace, Logan Marshall-Green, Michael Fa...</td>\n",
              "      <td>2012</td>\n",
              "      <td>124</td>\n",
              "      <td>7.0</td>\n",
              "      <td>485820</td>\n",
              "      <td>126.46</td>\n",
              "      <td>65.0</td>\n",
              "    </tr>\n",
              "    <tr>\n",
              "      <th>2</th>\n",
              "      <td>3</td>\n",
              "      <td>Split</td>\n",
              "      <td>Horror,Thriller</td>\n",
              "      <td>Three girls are kidnapped by a man with a diag...</td>\n",
              "      <td>M. Night Shyamalan</td>\n",
              "      <td>James McAvoy, Anya Taylor-Joy, Haley Lu Richar...</td>\n",
              "      <td>2016</td>\n",
              "      <td>117</td>\n",
              "      <td>7.3</td>\n",
              "      <td>157606</td>\n",
              "      <td>138.12</td>\n",
              "      <td>62.0</td>\n",
              "    </tr>\n",
              "  </tbody>\n",
              "</table>\n",
              "</div>\n",
              "      <button class=\"colab-df-convert\" onclick=\"convertToInteractive('df-46a18383-cd9f-4e6a-a3bf-4317cd713677')\"\n",
              "              title=\"Convert this dataframe to an interactive table.\"\n",
              "              style=\"display:none;\">\n",
              "        \n",
              "  <svg xmlns=\"http://www.w3.org/2000/svg\" height=\"24px\"viewBox=\"0 0 24 24\"\n",
              "       width=\"24px\">\n",
              "    <path d=\"M0 0h24v24H0V0z\" fill=\"none\"/>\n",
              "    <path d=\"M18.56 5.44l.94 2.06.94-2.06 2.06-.94-2.06-.94-.94-2.06-.94 2.06-2.06.94zm-11 1L8.5 8.5l.94-2.06 2.06-.94-2.06-.94L8.5 2.5l-.94 2.06-2.06.94zm10 10l.94 2.06.94-2.06 2.06-.94-2.06-.94-.94-2.06-.94 2.06-2.06.94z\"/><path d=\"M17.41 7.96l-1.37-1.37c-.4-.4-.92-.59-1.43-.59-.52 0-1.04.2-1.43.59L10.3 9.45l-7.72 7.72c-.78.78-.78 2.05 0 2.83L4 21.41c.39.39.9.59 1.41.59.51 0 1.02-.2 1.41-.59l7.78-7.78 2.81-2.81c.8-.78.8-2.07 0-2.86zM5.41 20L4 18.59l7.72-7.72 1.47 1.35L5.41 20z\"/>\n",
              "  </svg>\n",
              "      </button>\n",
              "      \n",
              "  <style>\n",
              "    .colab-df-container {\n",
              "      display:flex;\n",
              "      flex-wrap:wrap;\n",
              "      gap: 12px;\n",
              "    }\n",
              "\n",
              "    .colab-df-convert {\n",
              "      background-color: #E8F0FE;\n",
              "      border: none;\n",
              "      border-radius: 50%;\n",
              "      cursor: pointer;\n",
              "      display: none;\n",
              "      fill: #1967D2;\n",
              "      height: 32px;\n",
              "      padding: 0 0 0 0;\n",
              "      width: 32px;\n",
              "    }\n",
              "\n",
              "    .colab-df-convert:hover {\n",
              "      background-color: #E2EBFA;\n",
              "      box-shadow: 0px 1px 2px rgba(60, 64, 67, 0.3), 0px 1px 3px 1px rgba(60, 64, 67, 0.15);\n",
              "      fill: #174EA6;\n",
              "    }\n",
              "\n",
              "    [theme=dark] .colab-df-convert {\n",
              "      background-color: #3B4455;\n",
              "      fill: #D2E3FC;\n",
              "    }\n",
              "\n",
              "    [theme=dark] .colab-df-convert:hover {\n",
              "      background-color: #434B5C;\n",
              "      box-shadow: 0px 1px 3px 1px rgba(0, 0, 0, 0.15);\n",
              "      filter: drop-shadow(0px 1px 2px rgba(0, 0, 0, 0.3));\n",
              "      fill: #FFFFFF;\n",
              "    }\n",
              "  </style>\n",
              "\n",
              "      <script>\n",
              "        const buttonEl =\n",
              "          document.querySelector('#df-46a18383-cd9f-4e6a-a3bf-4317cd713677 button.colab-df-convert');\n",
              "        buttonEl.style.display =\n",
              "          google.colab.kernel.accessAllowed ? 'block' : 'none';\n",
              "\n",
              "        async function convertToInteractive(key) {\n",
              "          const element = document.querySelector('#df-46a18383-cd9f-4e6a-a3bf-4317cd713677');\n",
              "          const dataTable =\n",
              "            await google.colab.kernel.invokeFunction('convertToInteractive',\n",
              "                                                     [key], {});\n",
              "          if (!dataTable) return;\n",
              "\n",
              "          const docLinkHtml = 'Like what you see? Visit the ' +\n",
              "            '<a target=\"_blank\" href=https://colab.research.google.com/notebooks/data_table.ipynb>data table notebook</a>'\n",
              "            + ' to learn more about interactive tables.';\n",
              "          element.innerHTML = '';\n",
              "          dataTable['output_type'] = 'display_data';\n",
              "          await google.colab.output.renderOutput(dataTable, element);\n",
              "          const docLink = document.createElement('div');\n",
              "          docLink.innerHTML = docLinkHtml;\n",
              "          element.appendChild(docLink);\n",
              "        }\n",
              "      </script>\n",
              "    </div>\n",
              "  </div>\n",
              "  "
            ]
          },
          "metadata": {},
          "execution_count": 24
        }
      ]
    },
    {
      "cell_type": "code",
      "source": [
        "df['Movie_id'] = range(0,1000)"
      ],
      "metadata": {
        "id": "2OTmsEYaO5lV"
      },
      "execution_count": 25,
      "outputs": []
    },
    {
      "cell_type": "code",
      "source": [
        "#get a count of number of movies in dataset and number of columns\n",
        "df.shape"
      ],
      "metadata": {
        "colab": {
          "base_uri": "https://localhost:8080/"
        },
        "id": "b9khfCOOIWL9",
        "outputId": "cd500ea0-9fed-4895-8f7e-edbd5b72f731"
      },
      "execution_count": 26,
      "outputs": [
        {
          "output_type": "execute_result",
          "data": {
            "text/plain": [
              "(1000, 13)"
            ]
          },
          "metadata": {},
          "execution_count": 26
        }
      ]
    },
    {
      "cell_type": "code",
      "source": [
        "#list of important columns\n",
        "columns = ['Actors', 'Director', 'Genre', 'Title']"
      ],
      "metadata": {
        "id": "HwMP_S1aK-hj"
      },
      "execution_count": 27,
      "outputs": []
    },
    {
      "cell_type": "code",
      "source": [
        "#show the data\n",
        "df[columns].head(3)"
      ],
      "metadata": {
        "colab": {
          "base_uri": "https://localhost:8080/",
          "height": 143
        },
        "id": "fBXX2naOLOsM",
        "outputId": "e637e683-d4b4-4d5f-99ef-2f4432df5c5e"
      },
      "execution_count": 28,
      "outputs": [
        {
          "output_type": "execute_result",
          "data": {
            "text/plain": [
              "                                              Actors            Director  \\\n",
              "0  Chris Pratt, Vin Diesel, Bradley Cooper, Zoe S...          James Gunn   \n",
              "1  Noomi Rapace, Logan Marshall-Green, Michael Fa...        Ridley Scott   \n",
              "2  James McAvoy, Anya Taylor-Joy, Haley Lu Richar...  M. Night Shyamalan   \n",
              "\n",
              "                      Genre                    Title  \n",
              "0   Action,Adventure,Sci-Fi  Guardians of the Galaxy  \n",
              "1  Adventure,Mystery,Sci-Fi               Prometheus  \n",
              "2           Horror,Thriller                    Split  "
            ],
            "text/html": [
              "\n",
              "  <div id=\"df-d4a62329-b767-41dc-8b30-917a5b1d8935\">\n",
              "    <div class=\"colab-df-container\">\n",
              "      <div>\n",
              "<style scoped>\n",
              "    .dataframe tbody tr th:only-of-type {\n",
              "        vertical-align: middle;\n",
              "    }\n",
              "\n",
              "    .dataframe tbody tr th {\n",
              "        vertical-align: top;\n",
              "    }\n",
              "\n",
              "    .dataframe thead th {\n",
              "        text-align: right;\n",
              "    }\n",
              "</style>\n",
              "<table border=\"1\" class=\"dataframe\">\n",
              "  <thead>\n",
              "    <tr style=\"text-align: right;\">\n",
              "      <th></th>\n",
              "      <th>Actors</th>\n",
              "      <th>Director</th>\n",
              "      <th>Genre</th>\n",
              "      <th>Title</th>\n",
              "    </tr>\n",
              "  </thead>\n",
              "  <tbody>\n",
              "    <tr>\n",
              "      <th>0</th>\n",
              "      <td>Chris Pratt, Vin Diesel, Bradley Cooper, Zoe S...</td>\n",
              "      <td>James Gunn</td>\n",
              "      <td>Action,Adventure,Sci-Fi</td>\n",
              "      <td>Guardians of the Galaxy</td>\n",
              "    </tr>\n",
              "    <tr>\n",
              "      <th>1</th>\n",
              "      <td>Noomi Rapace, Logan Marshall-Green, Michael Fa...</td>\n",
              "      <td>Ridley Scott</td>\n",
              "      <td>Adventure,Mystery,Sci-Fi</td>\n",
              "      <td>Prometheus</td>\n",
              "    </tr>\n",
              "    <tr>\n",
              "      <th>2</th>\n",
              "      <td>James McAvoy, Anya Taylor-Joy, Haley Lu Richar...</td>\n",
              "      <td>M. Night Shyamalan</td>\n",
              "      <td>Horror,Thriller</td>\n",
              "      <td>Split</td>\n",
              "    </tr>\n",
              "  </tbody>\n",
              "</table>\n",
              "</div>\n",
              "      <button class=\"colab-df-convert\" onclick=\"convertToInteractive('df-d4a62329-b767-41dc-8b30-917a5b1d8935')\"\n",
              "              title=\"Convert this dataframe to an interactive table.\"\n",
              "              style=\"display:none;\">\n",
              "        \n",
              "  <svg xmlns=\"http://www.w3.org/2000/svg\" height=\"24px\"viewBox=\"0 0 24 24\"\n",
              "       width=\"24px\">\n",
              "    <path d=\"M0 0h24v24H0V0z\" fill=\"none\"/>\n",
              "    <path d=\"M18.56 5.44l.94 2.06.94-2.06 2.06-.94-2.06-.94-.94-2.06-.94 2.06-2.06.94zm-11 1L8.5 8.5l.94-2.06 2.06-.94-2.06-.94L8.5 2.5l-.94 2.06-2.06.94zm10 10l.94 2.06.94-2.06 2.06-.94-2.06-.94-.94-2.06-.94 2.06-2.06.94z\"/><path d=\"M17.41 7.96l-1.37-1.37c-.4-.4-.92-.59-1.43-.59-.52 0-1.04.2-1.43.59L10.3 9.45l-7.72 7.72c-.78.78-.78 2.05 0 2.83L4 21.41c.39.39.9.59 1.41.59.51 0 1.02-.2 1.41-.59l7.78-7.78 2.81-2.81c.8-.78.8-2.07 0-2.86zM5.41 20L4 18.59l7.72-7.72 1.47 1.35L5.41 20z\"/>\n",
              "  </svg>\n",
              "      </button>\n",
              "      \n",
              "  <style>\n",
              "    .colab-df-container {\n",
              "      display:flex;\n",
              "      flex-wrap:wrap;\n",
              "      gap: 12px;\n",
              "    }\n",
              "\n",
              "    .colab-df-convert {\n",
              "      background-color: #E8F0FE;\n",
              "      border: none;\n",
              "      border-radius: 50%;\n",
              "      cursor: pointer;\n",
              "      display: none;\n",
              "      fill: #1967D2;\n",
              "      height: 32px;\n",
              "      padding: 0 0 0 0;\n",
              "      width: 32px;\n",
              "    }\n",
              "\n",
              "    .colab-df-convert:hover {\n",
              "      background-color: #E2EBFA;\n",
              "      box-shadow: 0px 1px 2px rgba(60, 64, 67, 0.3), 0px 1px 3px 1px rgba(60, 64, 67, 0.15);\n",
              "      fill: #174EA6;\n",
              "    }\n",
              "\n",
              "    [theme=dark] .colab-df-convert {\n",
              "      background-color: #3B4455;\n",
              "      fill: #D2E3FC;\n",
              "    }\n",
              "\n",
              "    [theme=dark] .colab-df-convert:hover {\n",
              "      background-color: #434B5C;\n",
              "      box-shadow: 0px 1px 3px 1px rgba(0, 0, 0, 0.15);\n",
              "      filter: drop-shadow(0px 1px 2px rgba(0, 0, 0, 0.3));\n",
              "      fill: #FFFFFF;\n",
              "    }\n",
              "  </style>\n",
              "\n",
              "      <script>\n",
              "        const buttonEl =\n",
              "          document.querySelector('#df-d4a62329-b767-41dc-8b30-917a5b1d8935 button.colab-df-convert');\n",
              "        buttonEl.style.display =\n",
              "          google.colab.kernel.accessAllowed ? 'block' : 'none';\n",
              "\n",
              "        async function convertToInteractive(key) {\n",
              "          const element = document.querySelector('#df-d4a62329-b767-41dc-8b30-917a5b1d8935');\n",
              "          const dataTable =\n",
              "            await google.colab.kernel.invokeFunction('convertToInteractive',\n",
              "                                                     [key], {});\n",
              "          if (!dataTable) return;\n",
              "\n",
              "          const docLinkHtml = 'Like what you see? Visit the ' +\n",
              "            '<a target=\"_blank\" href=https://colab.research.google.com/notebooks/data_table.ipynb>data table notebook</a>'\n",
              "            + ' to learn more about interactive tables.';\n",
              "          element.innerHTML = '';\n",
              "          dataTable['output_type'] = 'display_data';\n",
              "          await google.colab.output.renderOutput(dataTable, element);\n",
              "          const docLink = document.createElement('div');\n",
              "          docLink.innerHTML = docLinkHtml;\n",
              "          element.appendChild(docLink);\n",
              "        }\n",
              "      </script>\n",
              "    </div>\n",
              "  </div>\n",
              "  "
            ]
          },
          "metadata": {},
          "execution_count": 28
        }
      ]
    },
    {
      "cell_type": "code",
      "source": [
        "#check for any missing values in the important columns \n",
        "df[columns].isnull().values.any()"
      ],
      "metadata": {
        "colab": {
          "base_uri": "https://localhost:8080/"
        },
        "id": "U9lWr3eLLXGR",
        "outputId": "7c7f17f5-20bf-4091-95f8-80bff0511aea"
      },
      "execution_count": 29,
      "outputs": [
        {
          "output_type": "execute_result",
          "data": {
            "text/plain": [
              "False"
            ]
          },
          "metadata": {},
          "execution_count": 29
        }
      ]
    },
    {
      "cell_type": "code",
      "source": [
        "#create a function to combine the values of the important columns into one string\n",
        "def get_important_features(data):\n",
        "  important_features = []\n",
        "  for i in range(0, data.shape[0]):\n",
        "    important_features.append(data['Actors'][i]+' '+data['Director'][i]+' '+data['Genre'][i]+' '+data['Title'][i])\n",
        "\n",
        "  return important_features"
      ],
      "metadata": {
        "id": "3lN9LqxBLnLf"
      },
      "execution_count": 30,
      "outputs": []
    },
    {
      "cell_type": "code",
      "source": [
        "#create a column to hold the combined strings\n",
        "df['important_features'] = get_important_features(df)\n",
        "\n",
        "#show the data\n",
        "df.head(3)"
      ],
      "metadata": {
        "colab": {
          "base_uri": "https://localhost:8080/",
          "height": 257
        },
        "id": "UmKyTnKcMsOe",
        "outputId": "84993707-d1a8-4e18-f3ea-86b6cd28a1ea"
      },
      "execution_count": 31,
      "outputs": [
        {
          "output_type": "execute_result",
          "data": {
            "text/plain": [
              "   Rank                    Title                     Genre  \\\n",
              "0     1  Guardians of the Galaxy   Action,Adventure,Sci-Fi   \n",
              "1     2               Prometheus  Adventure,Mystery,Sci-Fi   \n",
              "2     3                    Split           Horror,Thriller   \n",
              "\n",
              "                                         Description            Director  \\\n",
              "0  A group of intergalactic criminals are forced ...          James Gunn   \n",
              "1  Following clues to the origin of mankind, a te...        Ridley Scott   \n",
              "2  Three girls are kidnapped by a man with a diag...  M. Night Shyamalan   \n",
              "\n",
              "                                              Actors  Year  Runtime (Minutes)  \\\n",
              "0  Chris Pratt, Vin Diesel, Bradley Cooper, Zoe S...  2014                121   \n",
              "1  Noomi Rapace, Logan Marshall-Green, Michael Fa...  2012                124   \n",
              "2  James McAvoy, Anya Taylor-Joy, Haley Lu Richar...  2016                117   \n",
              "\n",
              "   Rating   Votes  Revenue (Millions)  Metascore  Movie_id  \\\n",
              "0     8.1  757074              333.13       76.0         0   \n",
              "1     7.0  485820              126.46       65.0         1   \n",
              "2     7.3  157606              138.12       62.0         2   \n",
              "\n",
              "                                  important_features  \n",
              "0  Chris Pratt, Vin Diesel, Bradley Cooper, Zoe S...  \n",
              "1  Noomi Rapace, Logan Marshall-Green, Michael Fa...  \n",
              "2  James McAvoy, Anya Taylor-Joy, Haley Lu Richar...  "
            ],
            "text/html": [
              "\n",
              "  <div id=\"df-45a67f87-bdc4-456e-8508-08057d00f13a\">\n",
              "    <div class=\"colab-df-container\">\n",
              "      <div>\n",
              "<style scoped>\n",
              "    .dataframe tbody tr th:only-of-type {\n",
              "        vertical-align: middle;\n",
              "    }\n",
              "\n",
              "    .dataframe tbody tr th {\n",
              "        vertical-align: top;\n",
              "    }\n",
              "\n",
              "    .dataframe thead th {\n",
              "        text-align: right;\n",
              "    }\n",
              "</style>\n",
              "<table border=\"1\" class=\"dataframe\">\n",
              "  <thead>\n",
              "    <tr style=\"text-align: right;\">\n",
              "      <th></th>\n",
              "      <th>Rank</th>\n",
              "      <th>Title</th>\n",
              "      <th>Genre</th>\n",
              "      <th>Description</th>\n",
              "      <th>Director</th>\n",
              "      <th>Actors</th>\n",
              "      <th>Year</th>\n",
              "      <th>Runtime (Minutes)</th>\n",
              "      <th>Rating</th>\n",
              "      <th>Votes</th>\n",
              "      <th>Revenue (Millions)</th>\n",
              "      <th>Metascore</th>\n",
              "      <th>Movie_id</th>\n",
              "      <th>important_features</th>\n",
              "    </tr>\n",
              "  </thead>\n",
              "  <tbody>\n",
              "    <tr>\n",
              "      <th>0</th>\n",
              "      <td>1</td>\n",
              "      <td>Guardians of the Galaxy</td>\n",
              "      <td>Action,Adventure,Sci-Fi</td>\n",
              "      <td>A group of intergalactic criminals are forced ...</td>\n",
              "      <td>James Gunn</td>\n",
              "      <td>Chris Pratt, Vin Diesel, Bradley Cooper, Zoe S...</td>\n",
              "      <td>2014</td>\n",
              "      <td>121</td>\n",
              "      <td>8.1</td>\n",
              "      <td>757074</td>\n",
              "      <td>333.13</td>\n",
              "      <td>76.0</td>\n",
              "      <td>0</td>\n",
              "      <td>Chris Pratt, Vin Diesel, Bradley Cooper, Zoe S...</td>\n",
              "    </tr>\n",
              "    <tr>\n",
              "      <th>1</th>\n",
              "      <td>2</td>\n",
              "      <td>Prometheus</td>\n",
              "      <td>Adventure,Mystery,Sci-Fi</td>\n",
              "      <td>Following clues to the origin of mankind, a te...</td>\n",
              "      <td>Ridley Scott</td>\n",
              "      <td>Noomi Rapace, Logan Marshall-Green, Michael Fa...</td>\n",
              "      <td>2012</td>\n",
              "      <td>124</td>\n",
              "      <td>7.0</td>\n",
              "      <td>485820</td>\n",
              "      <td>126.46</td>\n",
              "      <td>65.0</td>\n",
              "      <td>1</td>\n",
              "      <td>Noomi Rapace, Logan Marshall-Green, Michael Fa...</td>\n",
              "    </tr>\n",
              "    <tr>\n",
              "      <th>2</th>\n",
              "      <td>3</td>\n",
              "      <td>Split</td>\n",
              "      <td>Horror,Thriller</td>\n",
              "      <td>Three girls are kidnapped by a man with a diag...</td>\n",
              "      <td>M. Night Shyamalan</td>\n",
              "      <td>James McAvoy, Anya Taylor-Joy, Haley Lu Richar...</td>\n",
              "      <td>2016</td>\n",
              "      <td>117</td>\n",
              "      <td>7.3</td>\n",
              "      <td>157606</td>\n",
              "      <td>138.12</td>\n",
              "      <td>62.0</td>\n",
              "      <td>2</td>\n",
              "      <td>James McAvoy, Anya Taylor-Joy, Haley Lu Richar...</td>\n",
              "    </tr>\n",
              "  </tbody>\n",
              "</table>\n",
              "</div>\n",
              "      <button class=\"colab-df-convert\" onclick=\"convertToInteractive('df-45a67f87-bdc4-456e-8508-08057d00f13a')\"\n",
              "              title=\"Convert this dataframe to an interactive table.\"\n",
              "              style=\"display:none;\">\n",
              "        \n",
              "  <svg xmlns=\"http://www.w3.org/2000/svg\" height=\"24px\"viewBox=\"0 0 24 24\"\n",
              "       width=\"24px\">\n",
              "    <path d=\"M0 0h24v24H0V0z\" fill=\"none\"/>\n",
              "    <path d=\"M18.56 5.44l.94 2.06.94-2.06 2.06-.94-2.06-.94-.94-2.06-.94 2.06-2.06.94zm-11 1L8.5 8.5l.94-2.06 2.06-.94-2.06-.94L8.5 2.5l-.94 2.06-2.06.94zm10 10l.94 2.06.94-2.06 2.06-.94-2.06-.94-.94-2.06-.94 2.06-2.06.94z\"/><path d=\"M17.41 7.96l-1.37-1.37c-.4-.4-.92-.59-1.43-.59-.52 0-1.04.2-1.43.59L10.3 9.45l-7.72 7.72c-.78.78-.78 2.05 0 2.83L4 21.41c.39.39.9.59 1.41.59.51 0 1.02-.2 1.41-.59l7.78-7.78 2.81-2.81c.8-.78.8-2.07 0-2.86zM5.41 20L4 18.59l7.72-7.72 1.47 1.35L5.41 20z\"/>\n",
              "  </svg>\n",
              "      </button>\n",
              "      \n",
              "  <style>\n",
              "    .colab-df-container {\n",
              "      display:flex;\n",
              "      flex-wrap:wrap;\n",
              "      gap: 12px;\n",
              "    }\n",
              "\n",
              "    .colab-df-convert {\n",
              "      background-color: #E8F0FE;\n",
              "      border: none;\n",
              "      border-radius: 50%;\n",
              "      cursor: pointer;\n",
              "      display: none;\n",
              "      fill: #1967D2;\n",
              "      height: 32px;\n",
              "      padding: 0 0 0 0;\n",
              "      width: 32px;\n",
              "    }\n",
              "\n",
              "    .colab-df-convert:hover {\n",
              "      background-color: #E2EBFA;\n",
              "      box-shadow: 0px 1px 2px rgba(60, 64, 67, 0.3), 0px 1px 3px 1px rgba(60, 64, 67, 0.15);\n",
              "      fill: #174EA6;\n",
              "    }\n",
              "\n",
              "    [theme=dark] .colab-df-convert {\n",
              "      background-color: #3B4455;\n",
              "      fill: #D2E3FC;\n",
              "    }\n",
              "\n",
              "    [theme=dark] .colab-df-convert:hover {\n",
              "      background-color: #434B5C;\n",
              "      box-shadow: 0px 1px 3px 1px rgba(0, 0, 0, 0.15);\n",
              "      filter: drop-shadow(0px 1px 2px rgba(0, 0, 0, 0.3));\n",
              "      fill: #FFFFFF;\n",
              "    }\n",
              "  </style>\n",
              "\n",
              "      <script>\n",
              "        const buttonEl =\n",
              "          document.querySelector('#df-45a67f87-bdc4-456e-8508-08057d00f13a button.colab-df-convert');\n",
              "        buttonEl.style.display =\n",
              "          google.colab.kernel.accessAllowed ? 'block' : 'none';\n",
              "\n",
              "        async function convertToInteractive(key) {\n",
              "          const element = document.querySelector('#df-45a67f87-bdc4-456e-8508-08057d00f13a');\n",
              "          const dataTable =\n",
              "            await google.colab.kernel.invokeFunction('convertToInteractive',\n",
              "                                                     [key], {});\n",
              "          if (!dataTable) return;\n",
              "\n",
              "          const docLinkHtml = 'Like what you see? Visit the ' +\n",
              "            '<a target=\"_blank\" href=https://colab.research.google.com/notebooks/data_table.ipynb>data table notebook</a>'\n",
              "            + ' to learn more about interactive tables.';\n",
              "          element.innerHTML = '';\n",
              "          dataTable['output_type'] = 'display_data';\n",
              "          await google.colab.output.renderOutput(dataTable, element);\n",
              "          const docLink = document.createElement('div');\n",
              "          docLink.innerHTML = docLinkHtml;\n",
              "          element.appendChild(docLink);\n",
              "        }\n",
              "      </script>\n",
              "    </div>\n",
              "  </div>\n",
              "  "
            ]
          },
          "metadata": {},
          "execution_count": 31
        }
      ]
    },
    {
      "cell_type": "code",
      "source": [
        "#convert the text to a matrix of token counts\n",
        "cm = CountVectorizer().fit_transform(df['important_features'])"
      ],
      "metadata": {
        "id": "qVEjzzpaM9rV"
      },
      "execution_count": 32,
      "outputs": []
    },
    {
      "cell_type": "code",
      "source": [
        "#get the cosine similarity matrix from the count matrix\n",
        "cs = cosine_similarity(cm)\n",
        "#print the cosine similarity matrix\n",
        "print(cs)"
      ],
      "metadata": {
        "colab": {
          "base_uri": "https://localhost:8080/"
        },
        "id": "DKjXJRm1NPv0",
        "outputId": "472ccef6-2a82-4633-cbd6-a44fd57351e1"
      },
      "execution_count": 33,
      "outputs": [
        {
          "output_type": "stream",
          "name": "stdout",
          "text": [
            "[[1.         0.1767767  0.06085806 ... 0.0571662  0.06537205 0.        ]\n",
            " [0.1767767  1.         0.         ... 0.         0.06933752 0.        ]\n",
            " [0.06085806 0.         1.         ... 0.         0.         0.        ]\n",
            " ...\n",
            " [0.0571662  0.         0.         ... 1.         0.06726728 0.        ]\n",
            " [0.06537205 0.06933752 0.         ... 0.06726728 1.         0.07161149]\n",
            " [0.         0.         0.         ... 0.         0.07161149 1.        ]]\n"
          ]
        }
      ]
    },
    {
      "cell_type": "code",
      "source": [
        "#get the shape of the cosine similarity matrix\n",
        "cs.shape"
      ],
      "metadata": {
        "colab": {
          "base_uri": "https://localhost:8080/"
        },
        "id": "PuT24yJpNhhW",
        "outputId": "3a6b3bb6-09a8-497e-bc5a-339ec9012b12"
      },
      "execution_count": 34,
      "outputs": [
        {
          "output_type": "execute_result",
          "data": {
            "text/plain": [
              "(1000, 1000)"
            ]
          },
          "metadata": {},
          "execution_count": 34
        }
      ]
    },
    {
      "cell_type": "code",
      "source": [
        "#get the title of the movie that the user likes\n",
        "title = 'Guardians of the Galaxy'\n",
        "\n",
        "#find the movies id\n",
        "movie_id = df[df.Title == title]['Movie_id'].values[0]"
      ],
      "metadata": {
        "id": "tf46hJ4pNxIq"
      },
      "execution_count": 50,
      "outputs": []
    },
    {
      "cell_type": "code",
      "source": [
        "#create a list of enums for the similarity score\n",
        "scores = list(enumerate(cs[movie_id]))"
      ],
      "metadata": {
        "id": "q6IfT70ePKq3"
      },
      "execution_count": 51,
      "outputs": []
    },
    {
      "cell_type": "code",
      "source": [
        "#sort the list\n",
        "sorted_scores = sorted(scores, key = lambda x:x[1], reverse = True)\n",
        "sorted_scores = sorted_scores[1:]"
      ],
      "metadata": {
        "id": "jqF76tbBPoIe"
      },
      "execution_count": 52,
      "outputs": []
    },
    {
      "cell_type": "code",
      "source": [
        "#print the sorted scores\n",
        "print(sorted_scores)"
      ],
      "metadata": {
        "colab": {
          "base_uri": "https://localhost:8080/"
        },
        "id": "lfPCcCTJQP-z",
        "outputId": "d09a9c3e-20b1-4003-d4fa-354058974a82"
      },
      "execution_count": 53,
      "outputs": [
        {
          "output_type": "stream",
          "name": "stdout",
          "text": [
            "[(48, 0.4001633653325207), (362, 0.4001633653325207), (257, 0.3771236166328254), (94, 0.3600411499115478), (85, 0.34299717028501775), (388, 0.34299717028501775), (162, 0.32444284226152503), (195, 0.32444284226152503), (216, 0.32444284226152503), (710, 0.32444284226152503), (566, 0.31622776601683794), (822, 0.31622776601683794), (87, 0.314970394174356), (558, 0.3086066999241839), (140, 0.3042903097250923), (728, 0.3042903097250923), (944, 0.3042903097250923), (32, 0.2946278254943948), (38, 0.2946278254943948), (76, 0.2946278254943948), (205, 0.2946278254943948), (924, 0.2946278254943948), (8, 0.2858309752375148), (200, 0.2858309752375148), (396, 0.2858309752375148), (712, 0.2858309752375148), (852, 0.2858309752375148), (176, 0.28284271247461906), (126, 0.27777777777777785), (253, 0.27777777777777785), (316, 0.27777777777777785), (325, 0.27777777777777785), (384, 0.27777777777777785), (35, 0.27036903521793754), (60, 0.27036903521793754), (429, 0.27036903521793754), (408, 0.25717224993681986), (680, 0.25717224993681986), (256, 0.25197631533948484), (739, 0.251259453814803), (806, 0.251259453814803), (84, 0.24343224778007383), (121, 0.24343224778007383), (212, 0.24343224778007383), (227, 0.24343224778007383), (354, 0.24343224778007383), (468, 0.24343224778007383), (472, 0.24343224778007383), (577, 0.24343224778007383), (588, 0.24343224778007383), (687, 0.24343224778007383), (908, 0.24343224778007383), (767, 0.2405626121623441), (12, 0.23570226039551587), (80, 0.23570226039551587), (102, 0.23570226039551587), (220, 0.23570226039551587), (287, 0.23570226039551587), (315, 0.23570226039551587), (389, 0.23570226039551587), (454, 0.23570226039551587), (528, 0.23570226039551587), (541, 0.23570226039551587), (542, 0.23570226039551587), (552, 0.23570226039551587), (673, 0.23570226039551587), (764, 0.23570226039551587), (313, 0.2311250817605122), (15, 0.2286647801900118), (24, 0.2286647801900118), (107, 0.2286647801900118), (151, 0.2286647801900118), (203, 0.2286647801900118), (214, 0.2286647801900118), (268, 0.2286647801900118), (450, 0.2286647801900118), (491, 0.2286647801900118), (575, 0.2286647801900118), (799, 0.2286647801900118), (878, 0.2286647801900118), (879, 0.2286647801900118), (67, 0.22222222222222227), (234, 0.22222222222222227), (243, 0.22222222222222227), (279, 0.22222222222222227), (371, 0.22222222222222227), (564, 0.22222222222222227), (871, 0.22222222222222227), (948, 0.22222222222222227), (990, 0.22222222222222227), (34, 0.21629522817435004), (156, 0.21629522817435004), (45, 0.21081851067789198), (75, 0.21081851067789198), (78, 0.21081851067789198), (500, 0.21081851067789198), (518, 0.21081851067789198), (135, 0.2057377999494559), (264, 0.2057377999494559), (314, 0.19658927487319622), (255, 0.19611613513818404), (244, 0.1924500897298753), (629, 0.1924500897298753), (9, 0.18898223650461363), (26, 0.18898223650461363), (91, 0.18898223650461363), (101, 0.18898223650461363), (134, 0.18898223650461363), (204, 0.18898223650461363), (370, 0.18898223650461363), (386, 0.18898223650461363), (446, 0.18898223650461363), (492, 0.18898223650461363), (613, 0.18490006540840975), (36, 0.18257418583505536), (217, 0.18257418583505536), (239, 0.18257418583505536), (319, 0.18257418583505536), (331, 0.18257418583505536), (340, 0.18257418583505536), (379, 0.18257418583505536), (512, 0.18257418583505536), (526, 0.18257418583505536), (559, 0.18257418583505536), (731, 0.18257418583505536), (766, 0.18257418583505536), (904, 0.18257418583505536), (1, 0.1767766952966369), (5, 0.1767766952966369), (51, 0.1767766952966369), (64, 0.1767766952966369), (97, 0.1767766952966369), (104, 0.1767766952966369), (131, 0.1767766952966369), (294, 0.1767766952966369), (323, 0.1767766952966369), (345, 0.1767766952966369), (368, 0.1767766952966369), (404, 0.1767766952966369), (432, 0.1767766952966369), (481, 0.1767766952966369), (529, 0.1767766952966369), (532, 0.1767766952966369), (533, 0.1767766952966369), (537, 0.1767766952966369), (553, 0.1767766952966369), (576, 0.1767766952966369), (581, 0.1767766952966369), (758, 0.1767766952966369), (770, 0.1767766952966369), (774, 0.1767766952966369), (781, 0.1767766952966369), (872, 0.1767766952966369), (913, 0.1767766952966369), (940, 0.1767766952966369), (954, 0.1767766952966369), (969, 0.1767766952966369), (65, 0.17149858514250885), (112, 0.17149858514250885), (215, 0.17149858514250885), (246, 0.17149858514250885), (326, 0.17149858514250885), (357, 0.17149858514250885), (525, 0.17149858514250885), (626, 0.17149858514250885), (690, 0.17149858514250885), (706, 0.17149858514250885), (916, 0.17149858514250885), (919, 0.17149858514250885), (938, 0.17149858514250885), (155, 0.16666666666666669), (302, 0.16666666666666669), (440, 0.16666666666666669), (494, 0.16666666666666669), (821, 0.16666666666666669), (827, 0.16666666666666669), (50, 0.16222142113076254), (306, 0.16222142113076254), (465, 0.16222142113076254), (560, 0.16222142113076254), (604, 0.16222142113076254), (609, 0.16222142113076254), (961, 0.16222142113076254), (683, 0.158113883008419), (953, 0.158113883008419), (978, 0.158113883008419), (578, 0.15430334996209194), (679, 0.15430334996209194), (843, 0.15430334996209194), (935, 0.15430334996209194), (308, 0.14744195615489716), (619, 0.14744195615489716), (284, 0.1307440900921227), (317, 0.1307440900921227), (351, 0.1307440900921227), (394, 0.1307440900921227), (631, 0.1307440900921227), (646, 0.1307440900921227), (722, 0.1307440900921227), (844, 0.1307440900921227), (937, 0.1307440900921227), (30, 0.12598815766974242), (89, 0.12598815766974242), (149, 0.12598815766974242), (169, 0.12598815766974242), (174, 0.12598815766974242), (175, 0.12598815766974242), (183, 0.12598815766974242), (228, 0.12598815766974242), (270, 0.12598815766974242), (275, 0.12598815766974242), (293, 0.12598815766974242), (347, 0.12598815766974242), (373, 0.12598815766974242), (400, 0.12598815766974242), (448, 0.12598815766974242), (451, 0.12598815766974242), (497, 0.12598815766974242), (718, 0.12598815766974242), (786, 0.12598815766974242), (802, 0.12598815766974242), (856, 0.12598815766974242), (920, 0.12598815766974242), (4, 0.12171612389003691), (19, 0.12171612389003691), (29, 0.12171612389003691), (33, 0.12171612389003691), (69, 0.12171612389003691), (150, 0.12171612389003691), (164, 0.12171612389003691), (172, 0.12171612389003691), (173, 0.12171612389003691), (178, 0.12171612389003691), (179, 0.12171612389003691), (210, 0.12171612389003691), (229, 0.12171612389003691), (232, 0.12171612389003691), (254, 0.12171612389003691), (334, 0.12171612389003691), (344, 0.12171612389003691), (355, 0.12171612389003691), (369, 0.12171612389003691), (385, 0.12171612389003691), (391, 0.12171612389003691), (398, 0.12171612389003691), (463, 0.12171612389003691), (484, 0.12171612389003691), (509, 0.12171612389003691), (557, 0.12171612389003691), (592, 0.12171612389003691), (597, 0.12171612389003691), (598, 0.12171612389003691), (616, 0.12171612389003691), (618, 0.12171612389003691), (625, 0.12171612389003691), (663, 0.12171612389003691), (693, 0.12171612389003691), (694, 0.12171612389003691), (753, 0.12171612389003691), (755, 0.12171612389003691), (759, 0.12171612389003691), (771, 0.12171612389003691), (787, 0.12171612389003691), (810, 0.12171612389003691), (817, 0.12171612389003691), (833, 0.12171612389003691), (880, 0.12171612389003691), (884, 0.12171612389003691), (897, 0.12171612389003691), (54, 0.11785113019775793), (95, 0.11785113019775793), (109, 0.11785113019775793), (124, 0.11785113019775793), (125, 0.11785113019775793), (129, 0.11785113019775793), (168, 0.11785113019775793), (193, 0.11785113019775793), (221, 0.11785113019775793), (281, 0.11785113019775793), (300, 0.11785113019775793), (358, 0.11785113019775793), (387, 0.11785113019775793), (406, 0.11785113019775793), (414, 0.11785113019775793), (427, 0.11785113019775793), (461, 0.11785113019775793), (469, 0.11785113019775793), (490, 0.11785113019775793), (527, 0.11785113019775793), (545, 0.11785113019775793), (603, 0.11785113019775793), (615, 0.11785113019775793), (636, 0.11785113019775793), (644, 0.11785113019775793), (660, 0.11785113019775793), (661, 0.11785113019775793), (697, 0.11785113019775793), (724, 0.11785113019775793), (737, 0.11785113019775793), (775, 0.11785113019775793), (835, 0.11785113019775793), (854, 0.11785113019775793), (869, 0.11785113019775793), (886, 0.11785113019775793), (901, 0.11785113019775793), (927, 0.11785113019775793), (985, 0.11785113019775793), (993, 0.11785113019775793), (37, 0.1143323900950059), (154, 0.1143323900950059), (166, 0.1143323900950059), (197, 0.1143323900950059), (233, 0.1143323900950059), (235, 0.1143323900950059), (238, 0.1143323900950059), (267, 0.1143323900950059), (271, 0.1143323900950059), (286, 0.1143323900950059), (296, 0.1143323900950059), (336, 0.1143323900950059), (433, 0.1143323900950059), (495, 0.1143323900950059), (496, 0.1143323900950059), (505, 0.1143323900950059), (516, 0.1143323900950059), (657, 0.1143323900950059), (698, 0.1143323900950059), (741, 0.1143323900950059), (807, 0.1143323900950059), (941, 0.1143323900950059), (967, 0.1143323900950059), (61, 0.11111111111111113), (82, 0.11111111111111113), (146, 0.11111111111111113), (163, 0.11111111111111113), (171, 0.11111111111111113), (395, 0.11111111111111113), (423, 0.11111111111111113), (447, 0.11111111111111113), (535, 0.11111111111111113), (617, 0.11111111111111113), (640, 0.11111111111111113), (674, 0.11111111111111113), (696, 0.11111111111111113), (837, 0.11111111111111113), (864, 0.11111111111111113), (875, 0.11111111111111113), (903, 0.11111111111111113), (905, 0.11111111111111113), (918, 0.11111111111111113), (110, 0.10814761408717502), (158, 0.10814761408717502), (366, 0.10814761408717502), (425, 0.10814761408717502), (772, 0.10814761408717502), (809, 0.10814761408717502), (921, 0.10814761408717502), (925, 0.10814761408717502), (62, 0.10540925533894599), (114, 0.10540925533894599), (418, 0.10540925533894599), (422, 0.10540925533894599), (473, 0.10540925533894599), (476, 0.10540925533894599), (749, 0.10540925533894599), (784, 0.10540925533894599), (209, 0.10286889997472795), (223, 0.10286889997472795), (260, 0.10286889997472795), (510, 0.10286889997472795), (803, 0.10286889997472795), (650, 0.10050378152592121), (911, 0.10050378152592121), (259, 0.09829463743659811), (410, 0.06537204504606135), (419, 0.06537204504606135), (421, 0.06537204504606135), (437, 0.06537204504606135), (591, 0.06537204504606135), (624, 0.06537204504606135), (659, 0.06537204504606135), (678, 0.06537204504606135), (730, 0.06537204504606135), (740, 0.06537204504606135), (846, 0.06537204504606135), (866, 0.06537204504606135), (890, 0.06537204504606135), (928, 0.06537204504606135), (932, 0.06537204504606135), (964, 0.06537204504606135), (966, 0.06537204504606135), (994, 0.06537204504606135), (998, 0.06537204504606135), (13, 0.06299407883487121), (47, 0.06299407883487121), (49, 0.06299407883487121), (55, 0.06299407883487121), (71, 0.06299407883487121), (74, 0.06299407883487121), (79, 0.06299407883487121), (92, 0.06299407883487121), (106, 0.06299407883487121), (113, 0.06299407883487121), (123, 0.06299407883487121), (127, 0.06299407883487121), (194, 0.06299407883487121), (240, 0.06299407883487121), (242, 0.06299407883487121), (248, 0.06299407883487121), (285, 0.06299407883487121), (288, 0.06299407883487121), (295, 0.06299407883487121), (312, 0.06299407883487121), (322, 0.06299407883487121), (329, 0.06299407883487121), (330, 0.06299407883487121), (346, 0.06299407883487121), (352, 0.06299407883487121), (363, 0.06299407883487121), (372, 0.06299407883487121), (375, 0.06299407883487121), (390, 0.06299407883487121), (401, 0.06299407883487121), (407, 0.06299407883487121), (409, 0.06299407883487121), (416, 0.06299407883487121), (417, 0.06299407883487121), (420, 0.06299407883487121), (435, 0.06299407883487121), (444, 0.06299407883487121), (452, 0.06299407883487121), (464, 0.06299407883487121), (466, 0.06299407883487121), (482, 0.06299407883487121), (499, 0.06299407883487121), (511, 0.06299407883487121), (517, 0.06299407883487121), (522, 0.06299407883487121), (562, 0.06299407883487121), (565, 0.06299407883487121), (571, 0.06299407883487121), (587, 0.06299407883487121), (589, 0.06299407883487121), (599, 0.06299407883487121), (623, 0.06299407883487121), (634, 0.06299407883487121), (639, 0.06299407883487121), (642, 0.06299407883487121), (652, 0.06299407883487121), (654, 0.06299407883487121), (675, 0.06299407883487121), (699, 0.06299407883487121), (703, 0.06299407883487121), (729, 0.06299407883487121), (763, 0.06299407883487121), (777, 0.06299407883487121), (789, 0.06299407883487121), (828, 0.06299407883487121), (834, 0.06299407883487121), (883, 0.06299407883487121), (902, 0.06299407883487121), (946, 0.06299407883487121), (947, 0.06299407883487121), (951, 0.06299407883487121), (956, 0.06299407883487121), (968, 0.06299407883487121), (984, 0.06299407883487121), (2, 0.06085806194501846), (14, 0.06085806194501846), (17, 0.06085806194501846), (20, 0.06085806194501846), (21, 0.06085806194501846), (23, 0.06085806194501846), (40, 0.06085806194501846), (53, 0.06085806194501846), (77, 0.06085806194501846), (99, 0.06085806194501846), (117, 0.06085806194501846), (119, 0.06085806194501846), (137, 0.06085806194501846), (147, 0.06085806194501846), (153, 0.06085806194501846), (159, 0.06085806194501846), (161, 0.06085806194501846), (182, 0.06085806194501846), (213, 0.06085806194501846), (226, 0.06085806194501846), (237, 0.06085806194501846), (241, 0.06085806194501846), (274, 0.06085806194501846), (298, 0.06085806194501846), (301, 0.06085806194501846), (303, 0.06085806194501846), (318, 0.06085806194501846), (324, 0.06085806194501846), (341, 0.06085806194501846), (376, 0.06085806194501846), (393, 0.06085806194501846), (402, 0.06085806194501846), (403, 0.06085806194501846), (412, 0.06085806194501846), (453, 0.06085806194501846), (456, 0.06085806194501846), (485, 0.06085806194501846), (493, 0.06085806194501846), (513, 0.06085806194501846), (521, 0.06085806194501846), (536, 0.06085806194501846), (540, 0.06085806194501846), (572, 0.06085806194501846), (580, 0.06085806194501846), (600, 0.06085806194501846), (621, 0.06085806194501846), (627, 0.06085806194501846), (649, 0.06085806194501846), (669, 0.06085806194501846), (670, 0.06085806194501846), (676, 0.06085806194501846), (688, 0.06085806194501846), (702, 0.06085806194501846), (707, 0.06085806194501846), (717, 0.06085806194501846), (721, 0.06085806194501846), (723, 0.06085806194501846), (727, 0.06085806194501846), (735, 0.06085806194501846), (736, 0.06085806194501846), (738, 0.06085806194501846), (743, 0.06085806194501846), (780, 0.06085806194501846), (788, 0.06085806194501846), (796, 0.06085806194501846), (797, 0.06085806194501846), (805, 0.06085806194501846), (855, 0.06085806194501846), (892, 0.06085806194501846), (895, 0.06085806194501846), (898, 0.06085806194501846), (923, 0.06085806194501846), (929, 0.06085806194501846), (943, 0.06085806194501846), (949, 0.06085806194501846), (958, 0.06085806194501846), (22, 0.05892556509887897), (42, 0.05892556509887897), (70, 0.05892556509887897), (116, 0.05892556509887897), (141, 0.05892556509887897), (142, 0.05892556509887897), (190, 0.05892556509887897), (198, 0.05892556509887897), (199, 0.05892556509887897), (219, 0.05892556509887897), (231, 0.05892556509887897), (249, 0.05892556509887897), (262, 0.05892556509887897), (272, 0.05892556509887897), (276, 0.05892556509887897), (283, 0.05892556509887897), (297, 0.05892556509887897), (342, 0.05892556509887897), (343, 0.05892556509887897), (383, 0.05892556509887897), (405, 0.05892556509887897), (424, 0.05892556509887897), (436, 0.05892556509887897), (445, 0.05892556509887897), (475, 0.05892556509887897), (555, 0.05892556509887897), (563, 0.05892556509887897), (570, 0.05892556509887897), (585, 0.05892556509887897), (593, 0.05892556509887897), (596, 0.05892556509887897), (601, 0.05892556509887897), (612, 0.05892556509887897), (672, 0.05892556509887897), (685, 0.05892556509887897), (704, 0.05892556509887897), (705, 0.05892556509887897), (733, 0.05892556509887897), (746, 0.05892556509887897), (748, 0.05892556509887897), (791, 0.05892556509887897), (794, 0.05892556509887897), (814, 0.05892556509887897), (819, 0.05892556509887897), (858, 0.05892556509887897), (887, 0.05892556509887897), (912, 0.05892556509887897), (934, 0.05892556509887897), (936, 0.05892556509887897), (957, 0.05892556509887897), (960, 0.05892556509887897), (972, 0.05892556509887897), (974, 0.05892556509887897), (979, 0.05892556509887897), (88, 0.05716619504750295), (105, 0.05716619504750295), (224, 0.05716619504750295), (304, 0.05716619504750295), (310, 0.05716619504750295), (338, 0.05716619504750295), (367, 0.05716619504750295), (378, 0.05716619504750295), (519, 0.05716619504750295), (547, 0.05716619504750295), (550, 0.05716619504750295), (628, 0.05716619504750295), (714, 0.05716619504750295), (762, 0.05716619504750295), (779, 0.05716619504750295), (798, 0.05716619504750295), (917, 0.05716619504750295), (962, 0.05716619504750295), (982, 0.05716619504750295), (997, 0.05716619504750295), (132, 0.055555555555555566), (181, 0.055555555555555566), (290, 0.055555555555555566), (438, 0.055555555555555566), (556, 0.055555555555555566), (568, 0.055555555555555566), (667, 0.055555555555555566), (708, 0.055555555555555566), (773, 0.055555555555555566), (831, 0.055555555555555566), (867, 0.055555555555555566), (868, 0.055555555555555566), (894, 0.055555555555555566), (939, 0.055555555555555566), (43, 0.05407380704358751), (86, 0.05407380704358751), (120, 0.05407380704358751), (122, 0.05407380704358751), (177, 0.05407380704358751), (434, 0.05407380704358751), (460, 0.05407380704358751), (507, 0.05407380704358751), (893, 0.05407380704358751), (952, 0.05407380704358751), (10, 0.052704627669472995), (63, 0.052704627669472995), (426, 0.052704627669472995), (546, 0.052704627669472995), (910, 0.052704627669472995), (327, 0.050251890762960605), (862, 0.050251890762960605), (950, 0.050251890762960605), (632, 0.049147318718299055), (380, 0.04811252243246882), (745, 0.04811252243246882), (3, 0.0), (6, 0.0), (7, 0.0), (11, 0.0), (16, 0.0), (18, 0.0), (25, 0.0), (27, 0.0), (28, 0.0), (31, 0.0), (39, 0.0), (41, 0.0), (44, 0.0), (46, 0.0), (52, 0.0), (56, 0.0), (57, 0.0), (58, 0.0), (59, 0.0), (66, 0.0), (68, 0.0), (72, 0.0), (73, 0.0), (81, 0.0), (83, 0.0), (90, 0.0), (93, 0.0), (96, 0.0), (98, 0.0), (100, 0.0), (103, 0.0), (108, 0.0), (111, 0.0), (115, 0.0), (118, 0.0), (128, 0.0), (130, 0.0), (133, 0.0), (136, 0.0), (138, 0.0), (139, 0.0), (143, 0.0), (144, 0.0), (145, 0.0), (148, 0.0), (152, 0.0), (157, 0.0), (160, 0.0), (165, 0.0), (167, 0.0), (170, 0.0), (180, 0.0), (184, 0.0), (185, 0.0), (186, 0.0), (187, 0.0), (188, 0.0), (189, 0.0), (191, 0.0), (192, 0.0), (196, 0.0), (201, 0.0), (202, 0.0), (206, 0.0), (207, 0.0), (208, 0.0), (211, 0.0), (218, 0.0), (222, 0.0), (225, 0.0), (230, 0.0), (236, 0.0), (245, 0.0), (247, 0.0), (250, 0.0), (251, 0.0), (252, 0.0), (258, 0.0), (261, 0.0), (263, 0.0), (265, 0.0), (266, 0.0), (269, 0.0), (273, 0.0), (277, 0.0), (278, 0.0), (280, 0.0), (282, 0.0), (289, 0.0), (291, 0.0), (292, 0.0), (299, 0.0), (305, 0.0), (307, 0.0), (309, 0.0), (311, 0.0), (320, 0.0), (321, 0.0), (328, 0.0), (332, 0.0), (333, 0.0), (335, 0.0), (337, 0.0), (339, 0.0), (348, 0.0), (349, 0.0), (350, 0.0), (353, 0.0), (356, 0.0), (359, 0.0), (360, 0.0), (361, 0.0), (364, 0.0), (365, 0.0), (374, 0.0), (377, 0.0), (381, 0.0), (382, 0.0), (392, 0.0), (397, 0.0), (399, 0.0), (411, 0.0), (413, 0.0), (415, 0.0), (428, 0.0), (430, 0.0), (431, 0.0), (439, 0.0), (441, 0.0), (442, 0.0), (443, 0.0), (449, 0.0), (455, 0.0), (457, 0.0), (458, 0.0), (459, 0.0), (462, 0.0), (467, 0.0), (470, 0.0), (471, 0.0), (474, 0.0), (477, 0.0), (478, 0.0), (479, 0.0), (480, 0.0), (483, 0.0), (486, 0.0), (487, 0.0), (488, 0.0), (489, 0.0), (498, 0.0), (501, 0.0), (502, 0.0), (503, 0.0), (504, 0.0), (506, 0.0), (508, 0.0), (514, 0.0), (515, 0.0), (520, 0.0), (523, 0.0), (524, 0.0), (530, 0.0), (531, 0.0), (534, 0.0), (538, 0.0), (539, 0.0), (543, 0.0), (544, 0.0), (548, 0.0), (549, 0.0), (551, 0.0), (554, 0.0), (561, 0.0), (567, 0.0), (569, 0.0), (573, 0.0), (574, 0.0), (579, 0.0), (582, 0.0), (583, 0.0), (584, 0.0), (586, 0.0), (590, 0.0), (594, 0.0), (595, 0.0), (602, 0.0), (605, 0.0), (606, 0.0), (607, 0.0), (608, 0.0), (610, 0.0), (611, 0.0), (614, 0.0), (620, 0.0), (622, 0.0), (630, 0.0), (633, 0.0), (635, 0.0), (637, 0.0), (638, 0.0), (641, 0.0), (643, 0.0), (645, 0.0), (647, 0.0), (648, 0.0), (651, 0.0), (653, 0.0), (655, 0.0), (656, 0.0), (658, 0.0), (662, 0.0), (664, 0.0), (665, 0.0), (666, 0.0), (668, 0.0), (671, 0.0), (677, 0.0), (681, 0.0), (682, 0.0), (684, 0.0), (686, 0.0), (689, 0.0), (691, 0.0), (692, 0.0), (695, 0.0), (700, 0.0), (701, 0.0), (709, 0.0), (711, 0.0), (713, 0.0), (715, 0.0), (716, 0.0), (719, 0.0), (720, 0.0), (725, 0.0), (726, 0.0), (732, 0.0), (734, 0.0), (742, 0.0), (744, 0.0), (747, 0.0), (750, 0.0), (751, 0.0), (752, 0.0), (754, 0.0), (756, 0.0), (757, 0.0), (760, 0.0), (761, 0.0), (765, 0.0), (768, 0.0), (769, 0.0), (776, 0.0), (778, 0.0), (782, 0.0), (783, 0.0), (785, 0.0), (790, 0.0), (792, 0.0), (793, 0.0), (795, 0.0), (800, 0.0), (801, 0.0), (804, 0.0), (808, 0.0), (811, 0.0), (812, 0.0), (813, 0.0), (815, 0.0), (816, 0.0), (818, 0.0), (820, 0.0), (823, 0.0), (824, 0.0), (825, 0.0), (826, 0.0), (829, 0.0), (830, 0.0), (832, 0.0), (836, 0.0), (838, 0.0), (839, 0.0), (840, 0.0), (841, 0.0), (842, 0.0), (845, 0.0), (847, 0.0), (848, 0.0), (849, 0.0), (850, 0.0), (851, 0.0), (853, 0.0), (857, 0.0), (859, 0.0), (860, 0.0), (861, 0.0), (863, 0.0), (865, 0.0), (870, 0.0), (873, 0.0), (874, 0.0), (876, 0.0), (877, 0.0), (881, 0.0), (882, 0.0), (885, 0.0), (888, 0.0), (889, 0.0), (891, 0.0), (896, 0.0), (899, 0.0), (900, 0.0), (906, 0.0), (907, 0.0), (909, 0.0), (914, 0.0), (915, 0.0), (922, 0.0), (926, 0.0), (930, 0.0), (931, 0.0), (933, 0.0), (942, 0.0), (945, 0.0), (955, 0.0), (959, 0.0), (963, 0.0), (965, 0.0), (970, 0.0), (971, 0.0), (973, 0.0), (975, 0.0), (976, 0.0), (977, 0.0), (980, 0.0), (981, 0.0), (983, 0.0), (986, 0.0), (987, 0.0), (988, 0.0), (989, 0.0), (991, 0.0), (992, 0.0), (995, 0.0), (996, 0.0), (999, 0.0)]\n"
          ]
        }
      ]
    },
    {
      "cell_type": "code",
      "source": [
        "#create a loop to print the first 7 similar movies\n",
        "j = 0\n",
        "print('The 7 Most recommended movies to', title, 'are:\\n')\n",
        "for item in sorted_scores:\n",
        "  movie_title = df[df.Movie_id == item[0]]['Title'].values[0]\n",
        "  print(j+1, movie_title)\n",
        "  j = j+1\n",
        "  if j>6:\n",
        "    break"
      ],
      "metadata": {
        "colab": {
          "base_uri": "https://localhost:8080/"
        },
        "id": "G8vlgMlLQbhR",
        "outputId": "cb90bcc7-2c28-4cf0-c55c-135a8b0dd33e"
      },
      "execution_count": 54,
      "outputs": [
        {
          "output_type": "stream",
          "name": "stdout",
          "text": [
            "The 7 Most recommended movies to Guardians of the Galaxy are:\n",
            "\n",
            "1 Star Trek Beyond\n",
            "2 Star Trek Into Darkness\n",
            "3 Rise of the Planet of the Apes\n",
            "4 Avengers: Age of Ultron\n",
            "5 Jurassic World\n",
            "6 The Wolverine\n",
            "7 X-Men: Days of Future Past\n"
          ]
        }
      ]
    }
  ]
}